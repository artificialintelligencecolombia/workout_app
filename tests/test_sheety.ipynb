{
 "cells": [
  {
   "cell_type": "code",
   "execution_count": 1,
   "metadata": {},
   "outputs": [],
   "source": [
    "import os\n",
    "import requests\n",
    "from dotenv import load_dotenv\n",
    "from datetime import datetime"
   ]
  },
  {
   "cell_type": "code",
   "execution_count": 2,
   "metadata": {},
   "outputs": [],
   "source": [
    "load_dotenv()\n",
    "BASE_URL = os.environ.get('BASE_URL')"
   ]
  },
  {
   "cell_type": "code",
   "execution_count": 3,
   "metadata": {},
   "outputs": [
    {
     "name": "stdout",
     "output_type": "stream",
     "text": [
      "{'workouts': [{'date': '21/07/2020', 'time': '3:00:00 PM', 'exercise': 'Running', 'duration': 22, 'calories': 130, 'id': 2}, {'date': '26/02/2025', 'time': '9:19:28 PM', 'exercise': 'Boxing', 'duration': 59, 'calories': 99, 'id': 3}]}\n"
     ]
    }
   ],
   "source": [
    "# Getting all the rows\n",
    "response = requests.get(url=BASE_URL)\n",
    "response.raise_for_status()\n",
    "print(response.json())\n"
   ]
  },
  {
   "cell_type": "code",
   "execution_count": 4,
   "metadata": {},
   "outputs": [
    {
     "name": "stdout",
     "output_type": "stream",
     "text": [
      "{'workout': {'date': '26/02/2025', 'time': '9:19:28 PM', 'exercise': 'Boxing', 'duration': 59, 'calories': 99, 'id': 3}}\n"
     ]
    }
   ],
   "source": [
    "# Getting specific records\n",
    "url = BASE_URL + '/3'\n",
    "response = requests.get(url=url)\n",
    "response.raise_for_status()\n",
    "print(response.json())\n"
   ]
  },
  {
   "cell_type": "code",
   "execution_count": 5,
   "metadata": {},
   "outputs": [
    {
     "name": "stdout",
     "output_type": "stream",
     "text": [
      "{'workouts': [{'date': '26/02/2025', 'time': '9:19:28 PM', 'exercise': 'Boxing', 'duration': 59, 'calories': 99, 'id': 3}]}\n"
     ]
    }
   ],
   "source": [
    "# Filtering rows\n",
    "url_2 = BASE_URL + '?filter[duration]=59'\n",
    "\n",
    "response = requests.get(url=url_2)\n",
    "response.raise_for_status()\n",
    "print(response.json())"
   ]
  },
  {
   "cell_type": "code",
   "execution_count": 7,
   "metadata": {},
   "outputs": [
    {
     "name": "stdout",
     "output_type": "stream",
     "text": [
      "2025-02-27 06:12:11.783718\n"
     ]
    }
   ],
   "source": [
    "current_time = datetime.now()\n",
    "print(current_time)\n",
    "\n",
    "formatted_date = current_time.strftime('%d/%m/%Y')\n",
    "formatted_time = current_time.strftime('%H:%M:%S')"
   ]
  },
  {
   "cell_type": "code",
   "execution_count": 8,
   "metadata": {},
   "outputs": [
    {
     "name": "stdout",
     "output_type": "stream",
     "text": [
      "{'workout': {'date': '27/02/2025', 'time': '06:12:11', 'exercise': 'Pilates', 'duration': 80, 'calories': None, 'id': 4}}\n"
     ]
    }
   ],
   "source": [
    "# Add row\n",
    "\n",
    "type_of_exercise = input('What did you trained today: ')\n",
    "training_duration = int(input('How long did you trained today: '))\n",
    "\n",
    "payload = {\n",
    "    \"workout\": {\n",
    "        \"date\": formatted_date,\n",
    "        \"time\": formatted_time,\n",
    "        \"exercise\": type_of_exercise,\n",
    "        \"duration\": training_duration,\n",
    "        \"calories\": None\n",
    "    }\n",
    "        }\n",
    "\n",
    "headers = {\n",
    "    \"Content-Type\": \"application/json\"\n",
    "}\n",
    "\n",
    "response = requests.post(url=BASE_URL, json=payload, headers=headers)\n",
    "response.raise_for_status()\n",
    "print(response.json())"
   ]
  },
  {
   "cell_type": "code",
   "execution_count": null,
   "metadata": {},
   "outputs": [],
   "source": []
  }
 ],
 "metadata": {
  "kernelspec": {
   "display_name": "Python 3",
   "language": "python",
   "name": "python3"
  },
  "language_info": {
   "codemirror_mode": {
    "name": "ipython",
    "version": 3
   },
   "file_extension": ".py",
   "mimetype": "text/x-python",
   "name": "python",
   "nbconvert_exporter": "python",
   "pygments_lexer": "ipython3",
   "version": "3.12.3"
  }
 },
 "nbformat": 4,
 "nbformat_minor": 2
}
