{
 "cells": [
  {
   "cell_type": "code",
   "execution_count": 2,
   "metadata": {},
   "outputs": [],
   "source": [
    "import os\n",
    "import requests\n",
    "from dotenv import load_dotenv\n",
    "from datetime import datetime\n"
   ]
  },
  {
   "cell_type": "code",
   "execution_count": 3,
   "metadata": {},
   "outputs": [],
   "source": [
    "# Load environment variables\n",
    "load_dotenv()\n",
    "\n",
    "BASE_NUTRITIONIX_URL = os.environ.get('BASE_NUTRITIONIX_URL')\n",
    "NUTRITIONIX_APP_ID = os.environ.get('NUTRITIONIX_APP_ID')\n",
    "NUTRITIONIX_API_KEY=os.environ.get('NUTRITIONIX_API_KEY')\n",
    "BASE_SHEETY_URL = os.environ.get('BASE_SHEETY_URL')\n",
    "SHEETY_AUTH_TOKEN = os.environ.get('SHEETY_AUTH_TOKEN')\n",
    "WEIGHT_KG = os.environ.get('WEIGHT_KG')\n",
    "HEIGHT_CM = os.environ.get('HEIGHT_CM')\n",
    "AGE = os.environ.get('AGE')"
   ]
  },
  {
   "cell_type": "code",
   "execution_count": 4,
   "metadata": {},
   "outputs": [],
   "source": [
    "#\n",
    "current_time = datetime.now()\n",
    "\n",
    "formatted_date = current_time.strftime('%d/%m/%Y')\n",
    "formatted_time = current_time.strftime('%H:%M:%S')"
   ]
  },
  {
   "cell_type": "code",
   "execution_count": 5,
   "metadata": {},
   "outputs": [],
   "source": [
    "# \n",
    "user_prompt = input(\"Tell me which exercises you did: \")\n",
    "\n",
    "headers = {\n",
    "    \"x-app-id\": NUTRITIONIX_APP_ID,\n",
    "    \"x-app-key\": NUTRITIONIX_API_KEY\n",
    "}\n",
    "\n",
    "nlp_excercise_endpoint = BASE_NUTRITIONIX_URL\n",
    "\n",
    "params = {\n",
    "    \"query\": user_prompt,\n",
    "    \"weight_kg\": WEIGHT_KG,\n",
    "    \"height_cm\": HEIGHT_CM,\n",
    "    \"age\": AGE\n",
    "}"
   ]
  },
  {
   "cell_type": "code",
   "execution_count": 6,
   "metadata": {},
   "outputs": [
    {
     "name": "stdout",
     "output_type": "stream",
     "text": [
      "{'exercises': [{'tag_id': 317, 'user_input': 'running', 'duration_min': 60, 'met': 9.8, 'nf_calories': 686, 'photo': {'highres': 'https://d2xdmhkmkbyw75.cloudfront.net/exercise/317_highres.jpg', 'thumb': 'https://d2xdmhkmkbyw75.cloudfront.net/exercise/317_thumb.jpg', 'is_user_uploaded': False}, 'compendium_code': 12050, 'name': 'running', 'description': None, 'benefits': None}]}\n"
     ]
    }
   ],
   "source": [
    "try:\n",
    "    response = requests.post(url=nlp_excercise_endpoint, json=params, headers=headers)\n",
    "    response.raise_for_status()\n",
    "    data = response.json()\n",
    "    print(data)\n",
    "except requests.exceptions.HTTPError as err:\n",
    "    print(f\"HTTP Error: {err}\")\n",
    "    print(f\"Response content: {response.text}\")"
   ]
  },
  {
   "cell_type": "code",
   "execution_count": null,
   "metadata": {},
   "outputs": [
    {
     "ename": "HTTPError",
     "evalue": "401 Client Error: Unauthorized for url: https://api.sheety.co/6b7d24c212c971eabee542375fa203ff/myWorkouts/workouts",
     "output_type": "error",
     "traceback": [
      "\u001b[1;31m---------------------------------------------------------------------------\u001b[0m",
      "\u001b[1;31mHTTPError\u001b[0m                                 Traceback (most recent call last)",
      "Cell \u001b[1;32mIn[8], line 23\u001b[0m\n\u001b[0;32m     17\u001b[0m headers \u001b[38;5;241m=\u001b[39m {\n\u001b[0;32m     18\u001b[0m     \u001b[38;5;124m\"\u001b[39m\u001b[38;5;124mContent-Type\u001b[39m\u001b[38;5;124m\"\u001b[39m: \u001b[38;5;124m\"\u001b[39m\u001b[38;5;124mapplication/json\u001b[39m\u001b[38;5;124m\"\u001b[39m,\n\u001b[0;32m     19\u001b[0m     \u001b[38;5;124m\"\u001b[39m\u001b[38;5;124mAuthorization\u001b[39m\u001b[38;5;124m\"\u001b[39m: SHEETY_AUTH_TOKEN\n\u001b[0;32m     20\u001b[0m }\n\u001b[0;32m     22\u001b[0m response \u001b[38;5;241m=\u001b[39m requests\u001b[38;5;241m.\u001b[39mpost(url\u001b[38;5;241m=\u001b[39mBASE_SHEETY_URL, json\u001b[38;5;241m=\u001b[39mpayload, headers\u001b[38;5;241m=\u001b[39mheaders)\n\u001b[1;32m---> 23\u001b[0m \u001b[43mresponse\u001b[49m\u001b[38;5;241;43m.\u001b[39;49m\u001b[43mraise_for_status\u001b[49m\u001b[43m(\u001b[49m\u001b[43m)\u001b[49m\n\u001b[0;32m     24\u001b[0m \u001b[38;5;28mprint\u001b[39m(response\u001b[38;5;241m.\u001b[39mjson())\n",
      "File \u001b[1;32mc:\\Users\\damal\\AppData\\Local\\Programs\\Python\\Python312\\Lib\\site-packages\\requests\\models.py:1024\u001b[0m, in \u001b[0;36mResponse.raise_for_status\u001b[1;34m(self)\u001b[0m\n\u001b[0;32m   1019\u001b[0m     http_error_msg \u001b[38;5;241m=\u001b[39m (\n\u001b[0;32m   1020\u001b[0m         \u001b[38;5;124mf\u001b[39m\u001b[38;5;124m\"\u001b[39m\u001b[38;5;132;01m{\u001b[39;00m\u001b[38;5;28mself\u001b[39m\u001b[38;5;241m.\u001b[39mstatus_code\u001b[38;5;132;01m}\u001b[39;00m\u001b[38;5;124m Server Error: \u001b[39m\u001b[38;5;132;01m{\u001b[39;00mreason\u001b[38;5;132;01m}\u001b[39;00m\u001b[38;5;124m for url: \u001b[39m\u001b[38;5;132;01m{\u001b[39;00m\u001b[38;5;28mself\u001b[39m\u001b[38;5;241m.\u001b[39murl\u001b[38;5;132;01m}\u001b[39;00m\u001b[38;5;124m\"\u001b[39m\n\u001b[0;32m   1021\u001b[0m     )\n\u001b[0;32m   1023\u001b[0m \u001b[38;5;28;01mif\u001b[39;00m http_error_msg:\n\u001b[1;32m-> 1024\u001b[0m     \u001b[38;5;28;01mraise\u001b[39;00m HTTPError(http_error_msg, response\u001b[38;5;241m=\u001b[39m\u001b[38;5;28mself\u001b[39m)\n",
      "\u001b[1;31mHTTPError\u001b[0m: 401 Client Error: Unauthorized for url: https://api.sheety.co/6b7d24c212c971eabee542375fa203ff/myWorkouts/workouts"
     ]
    }
   ],
   "source": [
    "# Add row\n",
    "\n",
    "type_of_exercise = data['exercises'][0]['user_input'].title()\n",
    "training_duration = data['exercises'][0]['duration_min']\n",
    "calories = data['exercises'][0]['nf_calories']\n",
    "\n",
    "payload = {\n",
    "    \"workout\": {\n",
    "        \"date\": formatted_date,\n",
    "        \"time\": formatted_time,\n",
    "        \"exercise\": type_of_exercise,\n",
    "        \"duration\": training_duration,\n",
    "        \"calories\": calories\n",
    "    }\n",
    "        }\n",
    "\n",
    "headers = {\n",
    "    \"Content-Type\": \"application/json\",\n",
    "    \"Authorization\": f\"Bearer {SHEETY_AUTH_TOKEN}\"\n",
    "}\n",
    "\n",
    "response = requests.post(url=BASE_SHEETY_URL, json=payload, headers=headers)\n",
    "response.raise_for_status()\n",
    "print(response.json())"
   ]
  },
  {
   "cell_type": "code",
   "execution_count": 8,
   "metadata": {},
   "outputs": [
    {
     "name": "stdout",
     "output_type": "stream",
     "text": [
      "{'workout': {'date': '27/02/2025', 'time': '06:49:13', 'exercise': 'Boxing', 'duration': 180, 'calories': 1638, 'id': 8}}\n"
     ]
    }
   ],
   "source": [
    "# Add row\n",
    "\n",
    "type_of_exercise = data['exercises'][0]['user_input'].title()\n",
    "training_duration = data['exercises'][0]['duration_min']\n",
    "calories = data['exercises'][0]['nf_calories']\n",
    "\n",
    "payload = {\n",
    "    \"workout\": {\n",
    "        \"date\": formatted_date,\n",
    "        \"time\": formatted_time,\n",
    "        \"exercise\": type_of_exercise,\n",
    "        \"duration\": training_duration,\n",
    "        \"calories\": calories\n",
    "    }\n",
    "        }\n",
    "\n",
    "headers = {\n",
    "    \"Content-Type\": \"application/json\"\n",
    "}\n",
    "\n",
    "response = requests.post(url=BASE_SHEETY_URL, json=payload, headers=headers)\n",
    "response.raise_for_status()\n",
    "print(response.json())"
   ]
  }
 ],
 "metadata": {
  "kernelspec": {
   "display_name": "Python 3",
   "language": "python",
   "name": "python3"
  },
  "language_info": {
   "codemirror_mode": {
    "name": "ipython",
    "version": 3
   },
   "file_extension": ".py",
   "mimetype": "text/x-python",
   "name": "python",
   "nbconvert_exporter": "python",
   "pygments_lexer": "ipython3",
   "version": "3.12.3"
  }
 },
 "nbformat": 4,
 "nbformat_minor": 2
}
