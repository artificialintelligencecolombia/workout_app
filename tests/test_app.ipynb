{
 "cells": [
  {
   "cell_type": "code",
   "execution_count": 1,
   "metadata": {},
   "outputs": [],
   "source": [
    "import os\n",
    "import requests\n",
    "from dotenv import load_dotenv\n",
    "from datetime import datetime\n"
   ]
  },
  {
   "cell_type": "code",
   "execution_count": 2,
   "metadata": {},
   "outputs": [],
   "source": [
    "# Load environment variables\n",
    "load_dotenv()\n",
    "\n",
    "BASE_NUTRITIONIX_URL = os.environ.get('BASE_NUTRITIONIX_URL')\n",
    "NUTRITIONIX_APP_ID = os.environ.get('NUTRITIONIX_APP_ID')\n",
    "NUTRITIONIX_API_KEY=os.environ.get('NUTRITIONIX_API_KEY')\n",
    "BASE_SHEETY_URL = os.environ.get('BASE_SHEETY_URL')\n",
    "WEIGHT_KG = os.environ.get('WEIGHT_KG')\n",
    "HEIGHT_CM = os.environ.get('HEIGHT_CM')\n",
    "AGE = os.environ.get('AGE')"
   ]
  },
  {
   "cell_type": "code",
   "execution_count": 3,
   "metadata": {},
   "outputs": [],
   "source": [
    "#\n",
    "current_time = datetime.now()\n",
    "\n",
    "formatted_date = current_time.strftime('%d/%m/%Y')\n",
    "formatted_time = current_time.strftime('%H:%M:%S')"
   ]
  },
  {
   "cell_type": "code",
   "execution_count": 4,
   "metadata": {},
   "outputs": [],
   "source": [
    "# \n",
    "user_prompt = input(\"Tell me which exercises you did: \")\n",
    "\n",
    "headers = {\n",
    "    \"x-app-id\": NUTRITIONIX_APP_ID,\n",
    "    \"x-app-key\": NUTRITIONIX_API_KEY\n",
    "}\n",
    "\n",
    "nlp_excercise_endpoint = BASE_NUTRITIONIX_URL\n",
    "\n",
    "params = {\n",
    "    \"query\": user_prompt,\n",
    "    \"weight_kg\": WEIGHT_KG,\n",
    "    \"height_cm\": HEIGHT_CM,\n",
    "    \"age\": AGE\n",
    "}"
   ]
  },
  {
   "cell_type": "code",
   "execution_count": 5,
   "metadata": {},
   "outputs": [
    {
     "name": "stdout",
     "output_type": "stream",
     "text": [
      "{'exercises': [{'tag_id': 258, 'user_input': 'boxing', 'duration_min': 180, 'met': 7.8, 'nf_calories': 1638, 'photo': {'highres': 'https://d2xdmhkmkbyw75.cloudfront.net/exercise/258_highres.jpg', 'thumb': 'https://d2xdmhkmkbyw75.cloudfront.net/exercise/258_thumb.jpg', 'is_user_uploaded': False}, 'compendium_code': 15120, 'name': 'boxing', 'description': None, 'benefits': None}]}\n"
     ]
    }
   ],
   "source": [
    "try:\n",
    "    response = requests.post(url=nlp_excercise_endpoint, json=params, headers=headers)\n",
    "    response.raise_for_status()\n",
    "    data = response.json()\n",
    "    print(data)\n",
    "except requests.exceptions.HTTPError as err:\n",
    "    print(f\"HTTP Error: {err}\")\n",
    "    print(f\"Response content: {response.text}\")"
   ]
  },
  {
   "cell_type": "code",
   "execution_count": 6,
   "metadata": {},
   "outputs": [
    {
     "name": "stdout",
     "output_type": "stream",
     "text": [
      "{'workout': {'date': '27/02/2025', 'time': '06:49:13', 'exercise': 'Boxing', 'duration': 180, 'calories': 1638, 'id': 6}}\n"
     ]
    }
   ],
   "source": [
    "# Add row\n",
    "\n",
    "type_of_exercise = data['exercises'][0]['user_input'].title()\n",
    "training_duration = data['exercises'][0]['duration_min']\n",
    "calories = data['exercises'][0]['nf_calories']\n",
    "\n",
    "payload = {\n",
    "    \"workout\": {\n",
    "        \"date\": formatted_date,\n",
    "        \"time\": formatted_time,\n",
    "        \"exercise\": type_of_exercise,\n",
    "        \"duration\": training_duration,\n",
    "        \"calories\": calories\n",
    "    }\n",
    "        }\n",
    "\n",
    "headers = {\n",
    "    \"Content-Type\": \"application/json\"\n",
    "}\n",
    "\n",
    "response = requests.post(url=BASE_SHEETY_URL, json=payload, headers=headers)\n",
    "response.raise_for_status()\n",
    "print(response.json())"
   ]
  },
  {
   "cell_type": "code",
   "execution_count": 8,
   "metadata": {},
   "outputs": [
    {
     "name": "stdout",
     "output_type": "stream",
     "text": [
      "{'workout': {'date': '27/02/2025', 'time': '06:49:13', 'exercise': 'Boxing', 'duration': 180, 'calories': 1638, 'id': 8}}\n"
     ]
    }
   ],
   "source": [
    "# Add row\n",
    "\n",
    "type_of_exercise = data['exercises'][0]['user_input'].title()\n",
    "training_duration = data['exercises'][0]['duration_min']\n",
    "calories = data['exercises'][0]['nf_calories']\n",
    "\n",
    "payload = {\n",
    "    \"workout\": {\n",
    "        \"date\": formatted_date,\n",
    "        \"time\": formatted_time,\n",
    "        \"exercise\": type_of_exercise,\n",
    "        \"duration\": training_duration,\n",
    "        \"calories\": calories\n",
    "    }\n",
    "        }\n",
    "\n",
    "headers = {\n",
    "    \"Content-Type\": \"application/json\"\n",
    "}\n",
    "\n",
    "response = requests.post(url=BASE_SHEETY_URL, json=payload, headers=headers)\n",
    "response.raise_for_status()\n",
    "print(response.json())"
   ]
  }
 ],
 "metadata": {
  "kernelspec": {
   "display_name": "Python 3",
   "language": "python",
   "name": "python3"
  },
  "language_info": {
   "codemirror_mode": {
    "name": "ipython",
    "version": 3
   },
   "file_extension": ".py",
   "mimetype": "text/x-python",
   "name": "python",
   "nbconvert_exporter": "python",
   "pygments_lexer": "ipython3",
   "version": "3.12.3"
  }
 },
 "nbformat": 4,
 "nbformat_minor": 2
}
