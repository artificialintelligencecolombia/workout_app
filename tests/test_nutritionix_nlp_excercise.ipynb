{
 "cells": [
  {
   "cell_type": "code",
   "execution_count": 8,
   "metadata": {},
   "outputs": [],
   "source": [
    "import os\n",
    "import requests\n",
    "from dotenv import load_dotenv"
   ]
  },
  {
   "cell_type": "code",
   "execution_count": 9,
   "metadata": {},
   "outputs": [],
   "source": [
    "load_dotenv()\n",
    "\n",
    "BASE_NUTRITIONIX_URL = os.environ.get('BASE_NUTRITIONIX_URL')\n",
    "NUTRITIONIX_APP_ID = os.environ.get('NUTRITIONIX_APP_ID')\n",
    "NUTRITIONIX_API_KEY=os.environ.get('NUTRITIONIX_API_KEY')\n",
    "WEIGHT_KG = os.environ.get('WEIGHT_KG')\n",
    "HEIGHT_CM = os.environ.get('HEIGHT_CM')\n",
    "AGE = os.environ.get('AGE')"
   ]
  },
  {
   "cell_type": "code",
   "execution_count": 10,
   "metadata": {},
   "outputs": [],
   "source": [
    "exercise_text = input(\"Tell me which exercises you did: \")\n",
    "\n",
    "headers = {\n",
    "    \"x-app-id\": NUTRITIONIX_APP_ID,\n",
    "    \"x-app-key\": NUTRITIONIX_API_KEY\n",
    "}\n",
    "\n",
    "params = {\n",
    "    \"query\": exercise_text,\n",
    "    \"weight_kg\": WEIGHT_KG,\n",
    "    \"height_cm\": HEIGHT_CM,\n",
    "    \"age\": AGE\n",
    "}"
   ]
  },
  {
   "cell_type": "code",
   "execution_count": 11,
   "metadata": {},
   "outputs": [
    {
     "name": "stdout",
     "output_type": "stream",
     "text": [
      "<Response [200]>\n"
     ]
    }
   ],
   "source": [
    "try:\n",
    "    response = requests.post(url=BASE_NUTRITIONIX_URL, json=params, headers=headers)\n",
    "    response.raise_for_status()\n",
    "    print(response)\n",
    "except requests.exceptions.HTTPError as err:\n",
    "    print(f\"HTTP Error: {err}\")\n",
    "    print(f\"Response content: {response.text}\")"
   ]
  },
  {
   "cell_type": "code",
   "execution_count": 12,
   "metadata": {},
   "outputs": [
    {
     "name": "stdout",
     "output_type": "stream",
     "text": [
      "{'exercises': [{'tag_id': 764, 'user_input': 'pilates', 'duration_min': 180, 'met': 3, 'nf_calories': 630, 'photo': {'highres': 'https://d2xdmhkmkbyw75.cloudfront.net/exercise/764_highres.jpg', 'thumb': 'https://d2xdmhkmkbyw75.cloudfront.net/exercise/764_thumb.jpg', 'is_user_uploaded': False}, 'compendium_code': 2105, 'name': 'pilates', 'description': None, 'benefits': None}]}\n"
     ]
    }
   ],
   "source": [
    "print(response.json())"
   ]
  },
  {
   "cell_type": "code",
   "execution_count": null,
   "metadata": {},
   "outputs": [],
   "source": []
  }
 ],
 "metadata": {
  "kernelspec": {
   "display_name": "Python 3",
   "language": "python",
   "name": "python3"
  },
  "language_info": {
   "codemirror_mode": {
    "name": "ipython",
    "version": 3
   },
   "file_extension": ".py",
   "mimetype": "text/x-python",
   "name": "python",
   "nbconvert_exporter": "python",
   "pygments_lexer": "ipython3",
   "version": "3.12.3"
  }
 },
 "nbformat": 4,
 "nbformat_minor": 2
}
