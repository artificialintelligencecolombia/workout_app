{
 "cells": [
  {
   "cell_type": "code",
   "execution_count": 1,
   "metadata": {},
   "outputs": [],
   "source": [
    "import os\n",
    "import requests\n",
    "from dotenv import load_dotenv"
   ]
  },
  {
   "cell_type": "code",
   "execution_count": 2,
   "metadata": {},
   "outputs": [],
   "source": [
    "load_dotenv()\n",
    "\n",
    "APP_ID = os.environ.get('APP_ID')\n",
    "API_KEY=os.environ.get('API_KEY')"
   ]
  },
  {
   "cell_type": "code",
   "execution_count": 3,
   "metadata": {},
   "outputs": [],
   "source": [
    "exercise_text = input(\"Tell me which exercises you did: \")\n",
    "\n",
    "headers = {\n",
    "    \"x-app-id\": APP_ID,\n",
    "    \"x-app-key\": API_KEY\n",
    "}\n",
    "\n",
    "nlp_excercise_endpoint = \"https://trackapi.nutritionix.com/v2/natural/exercise\"\n",
    "\n",
    "params = {\n",
    "    \"query\": exercise_text,\n",
    "    \"weight_kg\": 55,\n",
    "    \"height_cm\": 179,\n",
    "    \"age\": 33\n",
    "}"
   ]
  },
  {
   "cell_type": "code",
   "execution_count": 4,
   "metadata": {},
   "outputs": [
    {
     "name": "stdout",
     "output_type": "stream",
     "text": [
      "<Response [200]>\n"
     ]
    }
   ],
   "source": [
    "try:\n",
    "    response = requests.post(url=nlp_excercise_endpoint, json=params, headers=headers)\n",
    "    response.raise_for_status()\n",
    "    print(response)\n",
    "except requests.exceptions.HTTPError as err:\n",
    "    print(f\"HTTP Error: {err}\")\n",
    "    print(f\"Response content: {response.text}\")"
   ]
  },
  {
   "cell_type": "code",
   "execution_count": 5,
   "metadata": {},
   "outputs": [
    {
     "name": "stdout",
     "output_type": "stream",
     "text": [
      "{'exercises': [{'tag_id': 317, 'user_input': 'running', 'duration_min': 497.2, 'met': 9.8, 'nf_calories': 4466.51, 'photo': {'highres': 'https://d2xdmhkmkbyw75.cloudfront.net/exercise/317_highres.jpg', 'thumb': 'https://d2xdmhkmkbyw75.cloudfront.net/exercise/317_thumb.jpg', 'is_user_uploaded': False}, 'compendium_code': 12050, 'name': 'running', 'description': None, 'benefits': None}]}\n"
     ]
    }
   ],
   "source": [
    "print(response.json())"
   ]
  },
  {
   "cell_type": "code",
   "execution_count": null,
   "metadata": {},
   "outputs": [],
   "source": []
  }
 ],
 "metadata": {
  "kernelspec": {
   "display_name": "Python 3",
   "language": "python",
   "name": "python3"
  },
  "language_info": {
   "codemirror_mode": {
    "name": "ipython",
    "version": 3
   },
   "file_extension": ".py",
   "mimetype": "text/x-python",
   "name": "python",
   "nbconvert_exporter": "python",
   "pygments_lexer": "ipython3",
   "version": "3.12.3"
  }
 },
 "nbformat": 4,
 "nbformat_minor": 2
}
